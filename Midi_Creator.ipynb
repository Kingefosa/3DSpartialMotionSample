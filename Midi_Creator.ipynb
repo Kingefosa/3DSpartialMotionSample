{
  "nbformat": 4,
  "nbformat_minor": 0,
  "metadata": {
    "colab": {
      "provenance": [],
      "authorship_tag": "ABX9TyNt1g7kZfSEeeCV7zBHtqnd",
      "include_colab_link": true
    },
    "kernelspec": {
      "name": "python3",
      "display_name": "Python 3"
    },
    "language_info": {
      "name": "python"
    }
  },
  "cells": [
    {
      "cell_type": "markdown",
      "metadata": {
        "id": "view-in-github",
        "colab_type": "text"
      },
      "source": [
        "<a href=\"https://colab.research.google.com/github/Kingefosa/3DSpartialMotionSample/blob/master/Midi_Creator.ipynb\" target=\"_parent\"><img src=\"https://colab.research.google.com/assets/colab-badge.svg\" alt=\"Open In Colab\"/></a>"
      ]
    },
    {
      "cell_type": "code",
      "source": [
        "!pip install mido\n"
      ],
      "metadata": {
        "colab": {
          "base_uri": "https://localhost:8080/"
        },
        "id": "jfA5dOhvZuy1",
        "outputId": "4180a78e-19eb-4069-c11d-094306f59a31"
      },
      "execution_count": 7,
      "outputs": [
        {
          "output_type": "stream",
          "name": "stdout",
          "text": [
            "Collecting mido\n",
            "  Downloading mido-1.3.2-py3-none-any.whl (54 kB)\n",
            "\u001b[2K     \u001b[90m━━━━━━━━━━━━━━━━━━━━━━━━━━━━━━━━━━━━━━━━\u001b[0m \u001b[32m54.6/54.6 kB\u001b[0m \u001b[31m839.4 kB/s\u001b[0m eta \u001b[36m0:00:00\u001b[0m\n",
            "\u001b[?25hRequirement already satisfied: packaging~=23.1 in /usr/local/lib/python3.10/dist-packages (from mido) (23.2)\n",
            "Installing collected packages: mido\n",
            "Successfully installed mido-1.3.2\n"
          ]
        }
      ]
    },
    {
      "cell_type": "code",
      "source": [
        "import mido\n",
        "from mido import MidiFile, MidiTrack, Message\n",
        "\n",
        "def create_note_sequence(track, melody_data):\n",
        "    \"\"\"Add a sequence of notes to the track based on the melody data.\"\"\"\n",
        "    for note, duration in melody_data:\n",
        "        if note != 0:\n",
        "            track.append(Message('note_on', note=note, velocity=64, time=0))\n",
        "        track.append(Message('note_off', note=note, velocity=64, time=int(duration * TICKS_PER_SECOND)))\n",
        "\n",
        "# Constants for MIDI file\n",
        "TICKS_PER_BEAT = 480\n",
        "BEATS_PER_MINUTE = 120\n",
        "SECONDS_PER_MINUTE = 60\n",
        "TICKS_PER_SECOND = TICKS_PER_BEAT * BEATS_PER_MINUTE / SECONDS_PER_MINUTE\n",
        "\n",
        "# Melody data\n",
        "melody_pitch_duration_data = [\n",
        "    (60, 0.125), (63, 0.083), (65, 0.083), (67, 0.167), (70, 0.167),\n",
        "    (72, 0.125), (75, 0.083), (77, 0.083), (79, 0.167), (82, 0.167),\n",
        "    (84, 0.125), (87, 0.083), (89, 0.083), (91, 0.167), (94, 0.167),\n",
        "    (96, 0.125), (99, 0.083), (101, 0.083), (103, 0.167), (106, 0.167),\n",
        "]\n",
        "\n",
        "# Create a new MIDI file and track\n",
        "mid = MidiFile(ticks_per_beat=TICKS_PER_BEAT)\n",
        "track = MidiTrack()\n",
        "mid.tracks.append(track)\n",
        "\n",
        "# Add the melody to the track\n",
        "create_note_sequence(track, melody_pitch_duration_data)\n",
        "\n",
        "# Save the MIDI file\n",
        "midi_file_path = 'melody.mid'\n",
        "mid.save(midi_file_path)\n",
        "from google.colab import files\n",
        "files.download('melody.mid')\n",
        "\n",
        "\n",
        "print(f\"MIDI file saved as {midi_file_path}\")\n"
      ],
      "metadata": {
        "colab": {
          "base_uri": "https://localhost:8080/",
          "height": 34
        },
        "id": "M1fuC8GzaTaN",
        "outputId": "e3f8a2e9-2d4c-4ecf-c003-bc0954ea823a"
      },
      "execution_count": 10,
      "outputs": [
        {
          "output_type": "display_data",
          "data": {
            "text/plain": [
              "<IPython.core.display.Javascript object>"
            ],
            "application/javascript": [
              "\n",
              "    async function download(id, filename, size) {\n",
              "      if (!google.colab.kernel.accessAllowed) {\n",
              "        return;\n",
              "      }\n",
              "      const div = document.createElement('div');\n",
              "      const label = document.createElement('label');\n",
              "      label.textContent = `Downloading \"${filename}\": `;\n",
              "      div.appendChild(label);\n",
              "      const progress = document.createElement('progress');\n",
              "      progress.max = size;\n",
              "      div.appendChild(progress);\n",
              "      document.body.appendChild(div);\n",
              "\n",
              "      const buffers = [];\n",
              "      let downloaded = 0;\n",
              "\n",
              "      const channel = await google.colab.kernel.comms.open(id);\n",
              "      // Send a message to notify the kernel that we're ready.\n",
              "      channel.send({})\n",
              "\n",
              "      for await (const message of channel.messages) {\n",
              "        // Send a message to notify the kernel that we're ready.\n",
              "        channel.send({})\n",
              "        if (message.buffers) {\n",
              "          for (const buffer of message.buffers) {\n",
              "            buffers.push(buffer);\n",
              "            downloaded += buffer.byteLength;\n",
              "            progress.value = downloaded;\n",
              "          }\n",
              "        }\n",
              "      }\n",
              "      const blob = new Blob(buffers, {type: 'application/binary'});\n",
              "      const a = document.createElement('a');\n",
              "      a.href = window.URL.createObjectURL(blob);\n",
              "      a.download = filename;\n",
              "      div.appendChild(a);\n",
              "      a.click();\n",
              "      div.remove();\n",
              "    }\n",
              "  "
            ]
          },
          "metadata": {}
        },
        {
          "output_type": "display_data",
          "data": {
            "text/plain": [
              "<IPython.core.display.Javascript object>"
            ],
            "application/javascript": [
              "download(\"download_1a51d0be-9af3-42d7-aeef-d1fae2297295\", \"melody.mid\", 194)"
            ]
          },
          "metadata": {}
        },
        {
          "output_type": "stream",
          "name": "stdout",
          "text": [
            "MIDI file saved as melody.mid\n"
          ]
        }
      ]
    },
    {
      "cell_type": "code",
      "source": [
        "import mido\n",
        "from mido import MidiFile, MidiTrack, Message\n",
        "\n",
        "def create_note_sequence(track, melody_data, channel=0):\n",
        "    \"\"\"Add a sequence of notes to the track based on the melody data.\"\"\"\n",
        "    for note, duration in melody_data:\n",
        "        if note != 0:\n",
        "            track.append(Message('note_on', note=note, velocity=64, time=0, channel=channel))\n",
        "        track.append(Message('note_off', note=note, velocity=64, time=int(duration * TICKS_PER_SECOND), channel=channel))\n",
        "\n",
        "def create_drum_pattern(track, length, swing_factor=0.9):\n",
        "    \"\"\"Add a basic jazz drum pattern to the track.\"\"\"\n",
        "    # Constants for the drum notes\n",
        "    kick = 36\n",
        "    snare = 38\n",
        "    hihat = 42\n",
        "\n",
        "    for i in range(0, length, int(TICKS_PER_BEAT // 2)):  # Swing beat\n",
        "        # Kick on the first and slightly before the third beat\n",
        "        track.append(Message('note_on', note=kick, velocity=64, time=0 if i == 0 else int(TICKS_PER_BEAT * swing_factor // 4)))\n",
        "        track.append(Message('note_off', note=kick, velocity=64, time=int(TICKS_PER_BEAT // 4)))\n",
        "\n",
        "        # Snare on the second and fourth beat\n",
        "        if i % TICKS_PER_BEAT == 0:\n",
        "            track.append(Message('note_on', note=snare, velocity=64, time=int(TICKS_PER_BEAT // 4)))\n",
        "            track.append(Message('note_off', note=snare, velocity=64, time=int(TICKS_PER_BEAT // 2)))\n",
        "\n",
        "        # Hi-hat on every beat\n",
        "        track.append(Message('note_on', note=hihat, velocity=64, time=int(TICKS_PER_BEAT // 4)))\n",
        "        track.append(Message('note_off', note=hihat, velocity=64, time=int(TICKS_PER_BEAT // 2)))\n",
        "\n",
        "# Constants for MIDI file\n",
        "TICKS_PER_BEAT = 480\n",
        "BEATS_PER_MINUTE = 120\n",
        "SECONDS_PER_MINUTE = 60\n",
        "TICKS_PER_SECOND = TICKS_PER_BEAT * BEATS_PER_MINUTE / SECONDS_PER_MINUTE\n",
        "\n",
        "# Melody data\n",
        "melody_pitch_duration_data = [\n",
        "    (60, 0.5), (62, 0.5), (64, 0.5), (65, 0.5),  # C-D-E-F\n",
        "    (67, 1.0),                                   # G\n",
        "    (65, 0.5), (64, 0.5), (62, 0.5), (60, 0.5)   # F-E-D-C\n",
        "]\n",
        "\n",
        "# Create a new MIDI file and tracks\n",
        "mid = MidiFile(ticks_per_beat=TICKS_PER_BEAT)\n",
        "melody_track = MidiTrack()\n",
        "drum_track = MidiTrack()\n",
        "mid.tracks.append(melody_track)\n",
        "mid.tracks.append(drum_track)\n",
        "\n",
        "# Add the melody and drum pattern to their respective tracks\n",
        "create_note_sequence(melody_track, melody_pitch_duration_data)\n",
        "create_drum_pattern(drum_track, int(10 * 60 * TICKS_PER_SECOND))  # 10-minute drum loop\n",
        "\n",
        "# Save the MIDI file\n",
        "midi_file_path = 'jazz_with_drums.mid'\n",
        "mid.save(midi_file_path)\n",
        "from google.colab import files\n",
        "files.download('jazz_with_drums.mid')\n",
        "\n",
        "print(f\"MIDI file saved as {midi_file_path}\")\n"
      ],
      "metadata": {
        "colab": {
          "base_uri": "https://localhost:8080/",
          "height": 34
        },
        "id": "fiViH4EAcHbo",
        "outputId": "05549f75-079e-42fb-a362-317e3680a4b6"
      },
      "execution_count": 11,
      "outputs": [
        {
          "output_type": "display_data",
          "data": {
            "text/plain": [
              "<IPython.core.display.Javascript object>"
            ],
            "application/javascript": [
              "\n",
              "    async function download(id, filename, size) {\n",
              "      if (!google.colab.kernel.accessAllowed) {\n",
              "        return;\n",
              "      }\n",
              "      const div = document.createElement('div');\n",
              "      const label = document.createElement('label');\n",
              "      label.textContent = `Downloading \"${filename}\": `;\n",
              "      div.appendChild(label);\n",
              "      const progress = document.createElement('progress');\n",
              "      progress.max = size;\n",
              "      div.appendChild(progress);\n",
              "      document.body.appendChild(div);\n",
              "\n",
              "      const buffers = [];\n",
              "      let downloaded = 0;\n",
              "\n",
              "      const channel = await google.colab.kernel.comms.open(id);\n",
              "      // Send a message to notify the kernel that we're ready.\n",
              "      channel.send({})\n",
              "\n",
              "      for await (const message of channel.messages) {\n",
              "        // Send a message to notify the kernel that we're ready.\n",
              "        channel.send({})\n",
              "        if (message.buffers) {\n",
              "          for (const buffer of message.buffers) {\n",
              "            buffers.push(buffer);\n",
              "            downloaded += buffer.byteLength;\n",
              "            progress.value = downloaded;\n",
              "          }\n",
              "        }\n",
              "      }\n",
              "      const blob = new Blob(buffers, {type: 'application/binary'});\n",
              "      const a = document.createElement('a');\n",
              "      a.href = window.URL.createObjectURL(blob);\n",
              "      a.download = filename;\n",
              "      div.appendChild(a);\n",
              "      a.click();\n",
              "      div.remove();\n",
              "    }\n",
              "  "
            ]
          },
          "metadata": {}
        },
        {
          "output_type": "display_data",
          "data": {
            "text/plain": [
              "<IPython.core.display.Javascript object>"
            ],
            "application/javascript": [
              "download(\"download_8d6a32f7-1064-4908-95db-9e26ab28ef18\", \"jazz_with_drums.mid\", 51719)"
            ]
          },
          "metadata": {}
        },
        {
          "output_type": "stream",
          "name": "stdout",
          "text": [
            "MIDI file saved as jazz_with_drums.mid\n"
          ]
        }
      ]
    },
    {
      "cell_type": "code",
      "source": [
        "def create_guitar_part(track):\n",
        "    # Basic chord progression for guitar\n",
        "    chords = [\n",
        "        (60, 63, 67),  # C major chord (C, E, G)\n",
        "        (62, 65, 69),  # D minor chord (D, F, A)\n",
        "        # Add more chords as needed\n",
        "    ]\n",
        "    for chord in chords:\n",
        "        for note in chord:\n",
        "            track.append(Message('note_on', note=note, velocity=64, time=0))\n",
        "        for note in chord:\n",
        "            track.append(Message('note_off', note=note, velocity=64, time=int(1 * TICKS_PER_SECOND)))\n",
        "\n",
        "def create_harp_part(track):\n",
        "    # Simple arpeggio for harp\n",
        "    arpeggio = [60, 64, 67, 72]  # C major arpeggio (C, E, G, C)\n",
        "    for note in arpeggio:\n",
        "        track.append(Message('note_on', note=note, velocity=64, time=0))\n",
        "        track.append(Message('note_off', note=note, velocity=64, time=int(0.5 * TICKS_PER_SECOND)))\n",
        "\n",
        "def create_violin_part(track):\n",
        "    # Simple melody for violin\n",
        "    melody = [72, 74, 76, 78]  # Ascending notes\n",
        "    for note in melody:\n",
        "        track.append(Message('note_on', note=note, velocity=64, time=0))\n",
        "        track.append(Message('note_off', note=note, velocity=64, time=int(1 * TICKS_PER_SECOND)))\n",
        "\n",
        "# Create MIDI file and tracks\n",
        "mid = MidiFile(ticks_per_beat=TICKS_PER_BEAT)\n",
        "melody_track = MidiTrack()\n",
        "guitar_track = MidiTrack()\n",
        "harp_track = MidiTrack()\n",
        "violin_track = MidiTrack()\n",
        "mid.tracks += [melody_track, guitar_track, harp_track, violin_track]\n",
        "\n",
        "# Add the melody and other parts to their respective tracks\n",
        "create_note_sequence(melody_track, melody_pitch_duration_data)\n",
        "create_guitar_part(guitar_track)\n",
        "create_harp_part(harp_track)\n",
        "create_violin_part(violin_track)\n",
        "\n",
        "# Save the MIDI file\n",
        "midi_file_path = 'jazz_with_instruments.mid'\n",
        "mid.save(midi_file_path)\n",
        "from google.colab import files\n",
        "files.download('jazz_with_instruments.mid')\n",
        "\n",
        "\n",
        "print(f\"MIDI file saved as {midi_file_path}\")\n"
      ],
      "metadata": {
        "colab": {
          "base_uri": "https://localhost:8080/",
          "height": 34
        },
        "id": "bmjrXBswnQTD",
        "outputId": "5a882cab-6be9-45a0-80d4-bc37b7ce2690"
      },
      "execution_count": 12,
      "outputs": [
        {
          "output_type": "display_data",
          "data": {
            "text/plain": [
              "<IPython.core.display.Javascript object>"
            ],
            "application/javascript": [
              "\n",
              "    async function download(id, filename, size) {\n",
              "      if (!google.colab.kernel.accessAllowed) {\n",
              "        return;\n",
              "      }\n",
              "      const div = document.createElement('div');\n",
              "      const label = document.createElement('label');\n",
              "      label.textContent = `Downloading \"${filename}\": `;\n",
              "      div.appendChild(label);\n",
              "      const progress = document.createElement('progress');\n",
              "      progress.max = size;\n",
              "      div.appendChild(progress);\n",
              "      document.body.appendChild(div);\n",
              "\n",
              "      const buffers = [];\n",
              "      let downloaded = 0;\n",
              "\n",
              "      const channel = await google.colab.kernel.comms.open(id);\n",
              "      // Send a message to notify the kernel that we're ready.\n",
              "      channel.send({})\n",
              "\n",
              "      for await (const message of channel.messages) {\n",
              "        // Send a message to notify the kernel that we're ready.\n",
              "        channel.send({})\n",
              "        if (message.buffers) {\n",
              "          for (const buffer of message.buffers) {\n",
              "            buffers.push(buffer);\n",
              "            downloaded += buffer.byteLength;\n",
              "            progress.value = downloaded;\n",
              "          }\n",
              "        }\n",
              "      }\n",
              "      const blob = new Blob(buffers, {type: 'application/binary'});\n",
              "      const a = document.createElement('a');\n",
              "      a.href = window.URL.createObjectURL(blob);\n",
              "      a.download = filename;\n",
              "      div.appendChild(a);\n",
              "      a.click();\n",
              "      div.remove();\n",
              "    }\n",
              "  "
            ]
          },
          "metadata": {}
        },
        {
          "output_type": "display_data",
          "data": {
            "text/plain": [
              "<IPython.core.display.Javascript object>"
            ],
            "application/javascript": [
              "download(\"download_91dc7b0c-01e4-4575-8ae7-d2a34eef366e\", \"jazz_with_instruments.mid\", 261)"
            ]
          },
          "metadata": {}
        },
        {
          "output_type": "stream",
          "name": "stdout",
          "text": [
            "MIDI file saved as jazz_with_instruments.mid\n"
          ]
        }
      ]
    },
    {
      "cell_type": "code",
      "source": [
        "\n",
        "\n",
        "# Save the MIDI file\n",
        "mid.save('artb.mid')\n",
        "from google.colab import files\n",
        "files.download('artb.mid')\n"
      ],
      "metadata": {
        "colab": {
          "base_uri": "https://localhost:8080/",
          "height": 246
        },
        "outputId": "cf7bb109-4d59-43ac-c71d-285de915ada0",
        "id": "iRXKHgc4aw-B"
      },
      "execution_count": null,
      "outputs": [
        {
          "output_type": "error",
          "ename": "NameError",
          "evalue": "ignored",
          "traceback": [
            "\u001b[0;31m---------------------------------------------------------------------------\u001b[0m",
            "\u001b[0;31mNameError\u001b[0m                                 Traceback (most recent call last)",
            "\u001b[0;32m<ipython-input-2-0e6c2be0cf6d>\u001b[0m in \u001b[0;36m<cell line: 13>\u001b[0;34m()\u001b[0m\n\u001b[1;32m     11\u001b[0m \u001b[0mticks_per_note\u001b[0m \u001b[0;34m=\u001b[0m \u001b[0mint\u001b[0m\u001b[0;34m(\u001b[0m\u001b[0mticks_per_beat\u001b[0m \u001b[0;34m*\u001b[0m \u001b[0;36m0.25\u001b[0m\u001b[0;34m)\u001b[0m  \u001b[0;31m# Assuming tempo is 120 bpm, this is the number of ticks for a quarter note\u001b[0m\u001b[0;34m\u001b[0m\u001b[0;34m\u001b[0m\u001b[0m\n\u001b[1;32m     12\u001b[0m \u001b[0;34m\u001b[0m\u001b[0m\n\u001b[0;32m---> 13\u001b[0;31m \u001b[0;32mfor\u001b[0m \u001b[0mnote\u001b[0m \u001b[0;32min\u001b[0m \u001b[0mdrum_pitch_duration_data\u001b[0m\u001b[0;34m:\u001b[0m\u001b[0;34m\u001b[0m\u001b[0;34m\u001b[0m\u001b[0m\n\u001b[0m\u001b[1;32m     14\u001b[0m     \u001b[0;32mif\u001b[0m \u001b[0misinstance\u001b[0m\u001b[0;34m(\u001b[0m\u001b[0mnote\u001b[0m\u001b[0;34m[\u001b[0m\u001b[0;36m0\u001b[0m\u001b[0;34m]\u001b[0m\u001b[0;34m,\u001b[0m \u001b[0mtuple\u001b[0m\u001b[0;34m)\u001b[0m\u001b[0;34m:\u001b[0m  \u001b[0;31m# If more than one note at the same time\u001b[0m\u001b[0;34m\u001b[0m\u001b[0;34m\u001b[0m\u001b[0m\n\u001b[1;32m     15\u001b[0m         \u001b[0;32mfor\u001b[0m \u001b[0mn\u001b[0m \u001b[0;32min\u001b[0m \u001b[0mnote\u001b[0m\u001b[0;34m[\u001b[0m\u001b[0;36m0\u001b[0m\u001b[0;34m]\u001b[0m\u001b[0;34m:\u001b[0m\u001b[0;34m\u001b[0m\u001b[0;34m\u001b[0m\u001b[0m\n",
            "\u001b[0;31mNameError\u001b[0m: name 'drum_pitch_duration_data' is not defined"
          ]
        }
      ]
    },
    {
      "cell_type": "code",
      "source": [
        "\n",
        "\n",
        "# Save the MIDI file\n",
        "mid.save('artb.mid')\n",
        "from google.colab import files\n",
        "files.download('artb.mid')\n"
      ],
      "metadata": {
        "colab": {
          "base_uri": "https://localhost:8080/",
          "height": 246
        },
        "id": "ofw7irEDltXF",
        "outputId": "cf7bb109-4d59-43ac-c71d-285de915ada0"
      },
      "execution_count": null,
      "outputs": [
        {
          "output_type": "error",
          "ename": "NameError",
          "evalue": "ignored",
          "traceback": [
            "\u001b[0;31m---------------------------------------------------------------------------\u001b[0m",
            "\u001b[0;31mNameError\u001b[0m                                 Traceback (most recent call last)",
            "\u001b[0;32m<ipython-input-2-0e6c2be0cf6d>\u001b[0m in \u001b[0;36m<cell line: 13>\u001b[0;34m()\u001b[0m\n\u001b[1;32m     11\u001b[0m \u001b[0mticks_per_note\u001b[0m \u001b[0;34m=\u001b[0m \u001b[0mint\u001b[0m\u001b[0;34m(\u001b[0m\u001b[0mticks_per_beat\u001b[0m \u001b[0;34m*\u001b[0m \u001b[0;36m0.25\u001b[0m\u001b[0;34m)\u001b[0m  \u001b[0;31m# Assuming tempo is 120 bpm, this is the number of ticks for a quarter note\u001b[0m\u001b[0;34m\u001b[0m\u001b[0;34m\u001b[0m\u001b[0m\n\u001b[1;32m     12\u001b[0m \u001b[0;34m\u001b[0m\u001b[0m\n\u001b[0;32m---> 13\u001b[0;31m \u001b[0;32mfor\u001b[0m \u001b[0mnote\u001b[0m \u001b[0;32min\u001b[0m \u001b[0mdrum_pitch_duration_data\u001b[0m\u001b[0;34m:\u001b[0m\u001b[0;34m\u001b[0m\u001b[0;34m\u001b[0m\u001b[0m\n\u001b[0m\u001b[1;32m     14\u001b[0m     \u001b[0;32mif\u001b[0m \u001b[0misinstance\u001b[0m\u001b[0;34m(\u001b[0m\u001b[0mnote\u001b[0m\u001b[0;34m[\u001b[0m\u001b[0;36m0\u001b[0m\u001b[0;34m]\u001b[0m\u001b[0;34m,\u001b[0m \u001b[0mtuple\u001b[0m\u001b[0;34m)\u001b[0m\u001b[0;34m:\u001b[0m  \u001b[0;31m# If more than one note at the same time\u001b[0m\u001b[0;34m\u001b[0m\u001b[0;34m\u001b[0m\u001b[0m\n\u001b[1;32m     15\u001b[0m         \u001b[0;32mfor\u001b[0m \u001b[0mn\u001b[0m \u001b[0;32min\u001b[0m \u001b[0mnote\u001b[0m\u001b[0;34m[\u001b[0m\u001b[0;36m0\u001b[0m\u001b[0;34m]\u001b[0m\u001b[0;34m:\u001b[0m\u001b[0;34m\u001b[0m\u001b[0;34m\u001b[0m\u001b[0m\n",
            "\u001b[0;31mNameError\u001b[0m: name 'drum_pitch_duration_data' is not defined"
          ]
        }
      ]
    }
  ]
}